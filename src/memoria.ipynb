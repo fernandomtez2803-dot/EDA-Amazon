{
 "cells": [
  {
   "cell_type": "markdown",
   "id": "9ff6e5a2",
   "metadata": {},
   "source": [
    "# Memoria del Proyecto EDA — Dropshipping\n",
    "**Autor:** Nando  \n",
    "**Fecha:** 2025-10-17"
   ]
  },
  {
   "cell_type": "markdown",
   "id": "f40ac1fd",
   "metadata": {},
   "source": [
    "## 1. Introducción\n",
    "Objetivo del proyecto, caso de uso y alcance."
   ]
  },
  {
   "cell_type": "markdown",
   "id": "aed56a2f",
   "metadata": {},
   "source": [
    "## 2. Datos\n",
    "Origen, diccionario de variables, volumen, supuestos."
   ]
  },
  {
   "cell_type": "markdown",
   "id": "f07d0db3",
   "metadata": {},
   "source": [
    "## 3. Limpieza y preparación\n",
    "Valores nulos, duplicados, outliers, normalización."
   ]
  },
  {
   "cell_type": "markdown",
   "id": "2e35bfed",
   "metadata": {},
   "source": [
    "## 4. Análisis y visualizaciones\n",
    "KPIs, segmentaciones, estacionalidad, hipótesis."
   ]
  },
  {
   "cell_type": "markdown",
   "id": "7e928327",
   "metadata": {},
   "source": [
    "## 5. Conclusiones\n",
    "Hallazgos clave, riesgos, recomendaciones."
   ]
  },
  {
   "cell_type": "markdown",
   "id": "9c031c61",
   "metadata": {},
   "source": [
    "## 6. Trabajo futuro\n",
    "Cohortes, CLV, scraping de competencia, pruebas A/B."
   ]
  }
 ],
 "metadata": {},
 "nbformat": 4,
 "nbformat_minor": 5
}
